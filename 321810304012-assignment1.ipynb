{
 "cells": [
  {
   "cell_type": "code",
   "execution_count": 11,
   "metadata": {},
   "outputs": [
    {
     "name": "stdout",
     "output_type": "stream",
     "text": [
      "enter  A:6\n",
      "enter B:2\n",
      "8\n",
      "4\n",
      "12\n",
      "3.0\n",
      "0\n",
      "36\n",
      "3\n"
     ]
    }
   ],
   "source": [
    "a=int(input('enter  A:'))\n",
    "b=int(input('enter B:'))\n",
    "print(a+b)\n",
    "print(a-b)\n",
    "print(a*b)\n",
    "print(a/b)\n",
    "print(a%b)\n",
    "print(a**b)\n",
    "print(a//b)"
   ]
  },
  {
   "cell_type": "code",
   "execution_count": 15,
   "metadata": {},
   "outputs": [
    {
     "name": "stdout",
     "output_type": "stream",
     "text": [
      "enter p1000\n",
      "enter t2\n",
      "enter r1\n",
      "simple intrest is  20.0\n"
     ]
    }
   ],
   "source": [
    "p=float(input('enter p'))\n",
    "t=float(input('enter t'))\n",
    "r=float(input('enter r'))\n",
    "si=(p*t*r)/100\n",
    "print(\"simple intrest is \",si)"
   ]
  },
  {
   "cell_type": "code",
   "execution_count": 17,
   "metadata": {},
   "outputs": [
    {
     "name": "stdout",
     "output_type": "stream",
     "text": [
      "enter radius of circle4\n",
      "area of circle is : 50.24\n"
     ]
    }
   ],
   "source": [
    "r=float(input('enter radius of circle'))\n",
    "pi=3.14\n",
    "area=pi*r*r\n",
    "print(\"area of circle is :\",area)"
   ]
  },
  {
   "cell_type": "code",
   "execution_count": 18,
   "metadata": {},
   "outputs": [
    {
     "name": "stdout",
     "output_type": "stream",
     "text": [
      "enter base:3\n",
      "enter height:5\n",
      "area of triangle: 7.5\n"
     ]
    }
   ],
   "source": [
    "b=float(input('enter base:'))\n",
    "h=float(input('enter height:'))\n",
    "area=1/2*b*h\n",
    "print(\"area of triangle:\",area)"
   ]
  },
  {
   "cell_type": "code",
   "execution_count": 19,
   "metadata": {},
   "outputs": [
    {
     "name": "stdout",
     "output_type": "stream",
     "text": [
      "enter temp55\n",
      "celsius to fahrenheit 55.0 131.0\n"
     ]
    }
   ],
   "source": [
    "celsius=float(input('enter temp'))\n",
    "fahrenheit=(celsius*1.8)+32\n",
    "print(\"celsius to fahrenheit\",celsius,fahrenheit)"
   ]
  },
  {
   "cell_type": "code",
   "execution_count": 23,
   "metadata": {},
   "outputs": [
    {
     "name": "stdout",
     "output_type": "stream",
     "text": [
      "enter length of triangle5\n",
      "enter width of triangle6\n",
      "area of rectangle 5.0 6.0\n"
     ]
    }
   ],
   "source": [
    "length=float(input('enter length of triangle'))\n",
    "width=float(input('enter width of triangle'))\n",
    "area=length*width\n",
    "print(\"area of rectangle\",length,width)"
   ]
  },
  {
   "cell_type": "code",
   "execution_count": 24,
   "metadata": {},
   "outputs": [
    {
     "name": "stdout",
     "output_type": "stream",
     "text": [
      "4\n",
      "16\n"
     ]
    }
   ],
   "source": [
    "a=int(input())\n",
    "print(4*a)\n",
    "\n",
    "        "
   ]
  },
  {
   "cell_type": "raw",
   "metadata": {},
   "source": []
  },
  {
   "cell_type": "code",
   "execution_count": 25,
   "metadata": {},
   "outputs": [
    {
     "name": "stdout",
     "output_type": "stream",
     "text": [
      "5\n",
      "31.400000000000002\n"
     ]
    }
   ],
   "source": [
    "r=float(input())\n",
    "area=2*3.14*r\n",
    "print(area)"
   ]
  },
  {
   "cell_type": "code",
   "execution_count": 26,
   "metadata": {},
   "outputs": [
    {
     "name": "stdout",
     "output_type": "stream",
     "text": [
      "4\n",
      "5\n",
      "5 4\n"
     ]
    }
   ],
   "source": [
    "a=int(input())\n",
    "b=int(input())\n",
    "temp=a\n",
    "a=b\n",
    "b=temp\n",
    "print(a,b)"
   ]
  },
  {
   "cell_type": "code",
   "execution_count": null,
   "metadata": {},
   "outputs": [],
   "source": []
  }
 ],
 "metadata": {
  "kernelspec": {
   "display_name": "Python 3",
   "language": "python",
   "name": "python3"
  },
  "language_info": {
   "codemirror_mode": {
    "name": "ipython",
    "version": 3
   },
   "file_extension": ".py",
   "mimetype": "text/x-python",
   "name": "python",
   "nbconvert_exporter": "python",
   "pygments_lexer": "ipython3",
   "version": "3.7.6"
  }
 },
 "nbformat": 4,
 "nbformat_minor": 4
}
